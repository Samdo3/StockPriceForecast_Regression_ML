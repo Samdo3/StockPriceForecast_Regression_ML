{
 "cells": [
  {
   "cell_type": "code",
   "execution_count": null,
   "metadata": {},
   "outputs": [],
   "source": [
    "print(\"Hello World\")"
   ]
  },
  {
   "cell_type": "markdown",
   "metadata": {},
   "source": [
    "## 공통 모듈 불러와서 사용하기"
   ]
  },
  {
   "cell_type": "code",
   "execution_count": 36,
   "metadata": {},
   "outputs": [
    {
     "name": "stdout",
     "output_type": "stream",
     "text": [
      "Hello MS AI School Project Team 6\n"
     ]
    }
   ],
   "source": [
    "import sys\n",
    "import os\n",
    "sys.path.append(os.path.abspath(os.path.join('..')))\n",
    "from common.hello import *\n",
    "from common.yfinance import *\n",
    "\n",
    "hello()"
   ]
  },
  {
   "cell_type": "markdown",
   "metadata": {},
   "source": [
    "## 필요한 라이브러리 import, 그래프 출력 한글 처리"
   ]
  },
  {
   "cell_type": "code",
   "execution_count": 37,
   "metadata": {},
   "outputs": [],
   "source": [
    "import yfinance as yf\n",
    "import pandas as pd\n",
    "import matplotlib.pyplot as plt\n",
    "import gradio as gr\n",
    "from io import BytesIO\n",
    "from PIL import Image\n",
    "\n",
    "import platform\n",
    "from matplotlib import font_manager, rc\n",
    "\n",
    "def set_korean_font():\n",
    "    if platform.system() == 'Windows':\n",
    "        # Windows의 경우\n",
    "        font_name = font_manager.FontProperties(fname=\"c:/Windows/Fonts/malgun.ttf\").get_name()\n",
    "        rc('font', family=font_name)\n",
    "    elif platform.system() == 'Darwin':\n",
    "        # macOS의 경우\n",
    "        rc('font', family='AppleGothic')\n",
    "    else:\n",
    "        # 기타 OS의 경우\n",
    "        rc('font', family='NanumGothic')\n",
    "\n",
    "# 한글 폰트 설정\n",
    "set_korean_font()"
   ]
  },
  {
   "cell_type": "markdown",
   "metadata": {},
   "source": [
    "## 주식 데이터를 yfinance 에서 가져와서 데이터프레임과 그래프로 출력하는 함수"
   ]
  },
  {
   "cell_type": "code",
   "execution_count": null,
   "metadata": {},
   "outputs": [],
   "source": [
    "''' 공통 모듈로 분리\n",
    "# 주식 데이터를 가져오고 차트를 생성하는 함수\n",
    "def get_stock_data(ticker):\n",
    "    # yfinance를 이용해 주식 데이터 가져오기 (최근 1년 데이터)\n",
    "    data = yf.download(ticker, period=\"1y\")\n",
    "    \n",
    "    # 결과가 없으면 안내 문구 반환\n",
    "    if data.empty:\n",
    "        return \"데이터가 없습니다. 유효한 티커를 입력하세요.\", None\n",
    "    \n",
    "    # 데이터프레임을 정리하여 표시할 정보 선택\n",
    "    data_display = data[['Open', 'High', 'Low', 'Close', 'Volume']]\n",
    "    \n",
    "    # 열 이름을 문자열로 설정하여 문제 해결\n",
    "    data_display.columns = [col[0] if isinstance(col, tuple) else col for col in data_display.columns]\n",
    "    \n",
    "    # 인덱스를 열로 변환\n",
    "    data_display.reset_index(inplace=True)\n",
    "    \n",
    "    # 날짜 정보를 년월일 정보만 출력\n",
    "    data_display['Date'] = data_display['Date'].dt.strftime('%Y-%m-%d')\n",
    "    \n",
    "    # 나머지 값들은 소수점 둘째자리까지 출력하고 천단위 컴마(,)를 붙여줌\n",
    "    # data_display = data_display.round(2)\n",
    "    data_display['Open'] = data_display['Open'].apply(lambda x: f\"{x:,.2f}\")\n",
    "    data_display['High'] = data_display['High'].apply(lambda x: f\"{x:,.2f}\")\n",
    "    data_display['Low'] = data_display['Low'].apply(lambda x: f\"{x:,.2f}\")\n",
    "    data_display['Close'] = data_display['Close'].apply(lambda x: f\"{x:,.2f}\")\n",
    "    data_display['Volume'] = data_display['Volume'].apply(lambda x: f\"{x:,}\")\n",
    "    \n",
    "    \n",
    "    # 차트 생성\n",
    "    plt.figure(figsize=(10, 5))\n",
    "    plt.plot(data['Close'], label=\"Close Price\", color='blue')\n",
    "    plt.title(f\"{ticker} - 일별 종가 차트\")\n",
    "    plt.xlabel(\"Date\")\n",
    "    plt.ylabel(\"Price\")\n",
    "    plt.legend()\n",
    "    plt.grid()\n",
    "    \n",
    "    # 이미지를 메모리에 저장\n",
    "    buf = BytesIO()\n",
    "    plt.savefig(buf, format=\"png\")\n",
    "    plt.close()\n",
    "    buf.seek(0)  # 버퍼의 시작으로 이동\n",
    "    img = Image.open(buf)  # PIL 이미지로 변환\n",
    "    \n",
    "    data_display = data_display.iloc[::-1].reset_index(drop=True)\n",
    "    return data_display, img\n",
    "'''"
   ]
  },
  {
   "cell_type": "markdown",
   "metadata": {},
   "source": [
    "## Gradio UI 구성"
   ]
  },
  {
   "cell_type": "code",
   "execution_count": null,
   "metadata": {},
   "outputs": [],
   "source": [
    "# Gradio 인터페이스 설정\n",
    "with gr.Blocks(gr.themes.Monochrome()) as demo:\n",
    "    gr.Markdown(\"# 주식 데이터 조회\")\n",
    "    ticker_input = gr.Textbox(label=\"주식 티커 입력\", placeholder=\"예: AAPL, MSFT 등\")\n",
    "    with gr.Row():\n",
    "        submit_btn = gr.Button(\"조회\")\n",
    "        reset_btn = gr.Button(\"초기화\")\n",
    "    data_output = gr.Dataframe(label=\"일별 주가 데이터\", visible=False) \n",
    "    chart_output = gr.Image(label=\"주가 차트\", visible=False)\n",
    "    \n",
    "    def update_visibility(ticker):\n",
    "        ticker = ticker.upper()  # Convert ticker to uppercase\n",
    "        data, img = get_yfinance_stock_data(ticker)\n",
    "        return gr.update(visible=True), gr.update(visible=True), data, img\n",
    "    \n",
    "    def reset_fields():\n",
    "        return \"\", gr.update(visible=False), gr.update(visible=False)\n",
    "    \n",
    "    submit_btn.click(update_visibility, inputs=ticker_input, outputs=[data_output, chart_output, data_output, chart_output])\n",
    "    ticker_input.submit(update_visibility, inputs=ticker_input, outputs=[data_output, chart_output, data_output, chart_output])\n",
    "    reset_btn.click(reset_fields, inputs=None, outputs=[ticker_input, data_output, chart_output])\n",
    "\n",
    "# Gradio 앱 실행\n",
    "demo.launch()\n",
    "# demo.launch(share=True)"
   ]
  },
  {
   "cell_type": "markdown",
   "metadata": {},
   "source": [
    "## 조회 기간 설정하여 조회되도록 수정"
   ]
  },
  {
   "cell_type": "code",
   "execution_count": null,
   "metadata": {},
   "outputs": [],
   "source": [
    "''' 공통 모듈로 분리\n",
    "# 주식 데이터를 가져오고 차트를 생성하는 함수\n",
    "def get_stock_data(ticker, start, end):\n",
    "    # yfinance를 이용해 주식 데이터 가져오기 (지정된 기간 데이터)\n",
    "    data = yf.download(ticker, start=start, end=end)\n",
    "    \n",
    "    # 결과가 없으면 안내 문구 반환\n",
    "    if data.empty:\n",
    "        return \"데이터가 없습니다. 유효한 티커를 입력하세요.\", None\n",
    "    \n",
    "    # 데이터프레임을 정리하여 표시할 정보 선택\n",
    "    data_display = data[['Open', 'High', 'Low', 'Close', 'Volume']]\n",
    "    \n",
    "    # 열 이름을 문자열로 설정하여 문제 해결\n",
    "    data_display.columns = [col[0] if isinstance(col, tuple) else col for col in data_display.columns]\n",
    "    \n",
    "    # 인덱스를 열로 변환\n",
    "    data_display.reset_index(inplace=True)\n",
    "    \n",
    "    # 날짜 정보를 년월일 정보만 출력\n",
    "    data_display['Date'] = data_display['Date'].dt.strftime('%Y-%m-%d')\n",
    "    \n",
    "    # 나머지 값들은 소수점 둘째자리까지 출력하고 천단위 컴마(,)를 붙여줌\n",
    "    data_display['Open'] = data_display['Open'].apply(lambda x: f\"{x:,.2f}\")\n",
    "    data_display['High'] = data_display['High'].apply(lambda x: f\"{x:,.2f}\")\n",
    "    data_display['Low'] = data_display['Low'].apply(lambda x: f\"{x:,.2f}\")\n",
    "    data_display['Close'] = data_display['Close'].apply(lambda x: f\"{x:,.2f}\")\n",
    "    data_display['Volume'] = data_display['Volume'].apply(lambda x: f\"{x:,}\")\n",
    "    \n",
    "    # 차트 생성\n",
    "    plt.figure(figsize=(10, 5))\n",
    "    plt.plot(data['Close'], label=\"Close Price\", color='blue')\n",
    "    plt.title(f\"{ticker} - 일별 종가 차트\")\n",
    "    plt.xlabel(\"Date\")\n",
    "    plt.ylabel(\"Price\")\n",
    "    plt.legend()\n",
    "    plt.grid()\n",
    "    \n",
    "    # 이미지를 메모리에 저장\n",
    "    buf = BytesIO()\n",
    "    plt.savefig(buf, format=\"png\")\n",
    "    plt.close()\n",
    "    buf.seek(0)  # 버퍼의 시작으로 이동\n",
    "    img = Image.open(buf)  # PIL 이미지로 변환\n",
    "    \n",
    "    data_display = data_display.iloc[::-1].reset_index(drop=True)\n",
    "    return data_display, img\n",
    "'''"
   ]
  },
  {
   "cell_type": "markdown",
   "metadata": {},
   "source": [
    "## 시작일 종료일 지정하는 UI"
   ]
  },
  {
   "cell_type": "code",
   "execution_count": null,
   "metadata": {},
   "outputs": [],
   "source": [
    "# Gradio 인터페이스 설정\n",
    "with gr.Blocks(gr.themes.Monochrome()) as demo:\n",
    "    gr.Markdown(\"# 주식 데이터 조회\")\n",
    "    ticker_input = gr.Textbox(label=\"주식 티커 입력\", placeholder=\"예: AAPL, MSFT 등\")\n",
    "    start_date = gr.Textbox(label=\"조회 시작일\", placeholder=\"예: 2022-01-01\")\n",
    "    end_date = gr.Textbox(label=\"조회 종료일\", placeholder=\"예: 2023-01-01\")\n",
    "    with gr.Row():\n",
    "        submit_btn = gr.Button(\"조회\")\n",
    "        reset_btn = gr.Button(\"초기화\")\n",
    "    data_output = gr.Dataframe(label=\"일별 주가 데이터\", visible=False) \n",
    "    chart_output = gr.Image(label=\"주가 차트\", visible=False)\n",
    "    \n",
    "    def update_visibility(ticker, start_date, end_date):\n",
    "        ticker = ticker.upper()  # Convert ticker to uppercase\n",
    "        data, img = get_yfinance_stock_data(ticker, start=start_date, end=end_date)\n",
    "        return gr.update(visible=True), gr.update(visible=True), data, img\n",
    "    \n",
    "    def reset_fields():\n",
    "        return \"\", \"\", \"\", gr.update(visible=False), gr.update(visible=False)\n",
    "    \n",
    "    submit_btn.click(update_visibility, inputs=[ticker_input, start_date, end_date], outputs=[data_output, chart_output, data_output, chart_output])\n",
    "    ticker_input.submit(update_visibility, inputs=[ticker_input, start_date, end_date], outputs=[data_output, chart_output, data_output, chart_output])\n",
    "    reset_btn.click(reset_fields, inputs=None, outputs=[ticker_input, start_date, end_date, data_output, chart_output])\n",
    "\n",
    "# Gradio 앱 실행\n",
    "demo.launch()\n",
    "# demo.launch(share=True)"
   ]
  },
  {
   "cell_type": "code",
   "execution_count": null,
   "metadata": {},
   "outputs": [],
   "source": [
    "start_date = \"2022-01-01\"\n",
    "end_date = \"2022-01-10\"\n",
    "get_yfinance_stock_data(\"AAPL\", start=start_date, end=end_date)"
   ]
  },
  {
   "cell_type": "markdown",
   "metadata": {},
   "source": [
    "## Gradio UI 연습, 2개의 종목을 한번에 조회"
   ]
  },
  {
   "cell_type": "code",
   "execution_count": null,
   "metadata": {},
   "outputs": [],
   "source": [
    "'''\n",
    "# Gradio 인터페이스 설정\n",
    "with gr.Blocks(gr.themes.Monochrome()) as demo:\n",
    "    gr.Markdown(\"# 주식 데이터 조회\")\n",
    "    with gr.Row():\n",
    "        ticker_input1 = gr.Textbox(label=\"첫 번째 주식 티커 입력\", placeholder=\"예: AAPL\")\n",
    "        ticker_input2 = gr.Textbox(label=\"두 번째 주식 티커 입력\", placeholder=\"예: MSFT\")\n",
    "    with gr.Row():\n",
    "        submit_btn = gr.Button(\"조회\")\n",
    "        reset_btn = gr.Button(\"초기화\")\n",
    "    with gr.Row():\n",
    "        data_output1 = gr.Dataframe(label=\"첫 번째 종목 일별 주가 데이터\", visible=False)\n",
    "        data_output2 = gr.Dataframe(label=\"두 번째 종목 일별 주가 데이터\", visible=False)\n",
    "    with gr.Row():\n",
    "        chart_output1 = gr.Image(label=\"첫 번째 종목 주가 차트\", visible=False)\n",
    "        chart_output2 = gr.Image(label=\"두 번째 종목 주가 차트\", visible=False)\n",
    "    \n",
    "    def update_visibility(ticker1, ticker2):\n",
    "        data1, img1 = get_stock_data(ticker1) if ticker1 else (None, None)\n",
    "        data2, img2 = get_stock_data(ticker2) if ticker2 else (None, None)\n",
    "        \n",
    "        return (\n",
    "            gr.update(visible=True) if data1 is not None else gr.update(visible=False),\n",
    "            gr.update(visible=True) if data2 is not None else gr.update(visible=False),\n",
    "            gr.update(visible=True) if img1 is not None else gr.update(visible=False),\n",
    "            gr.update(visible=True) if img2 is not None else gr.update(visible=False),\n",
    "            data1 if data1 is not None else gr.update(visible=False),\n",
    "            data2 if data2 is not None else gr.update(visible=False),\n",
    "            img1,\n",
    "            img2\n",
    "        )\n",
    "    \n",
    "    def reset_fields():\n",
    "        return \"\", \"\", gr.update(visible=False), gr.update(visible=False), gr.update(visible=False), gr.update(visible=False)\n",
    "    \n",
    "    submit_btn.click(update_visibility, inputs=[ticker_input1, ticker_input2], outputs=[data_output1, data_output2, chart_output1, chart_output2, data_output1, data_output2, chart_output1, chart_output2])\n",
    "    ticker_input1.submit(update_visibility, inputs=[ticker_input1, ticker_input2], outputs=[data_output1, data_output2, chart_output1, chart_output2, data_output1, data_output2, chart_output1, chart_output2])\n",
    "    ticker_input2.submit(update_visibility, inputs=[ticker_input1, ticker_input2], outputs=[data_output1, data_output2, chart_output1, chart_output2, data_output1, data_output2, chart_output1, chart_output2])\n",
    "    reset_btn.click(reset_fields, inputs=None, outputs=[ticker_input1, ticker_input2, data_output1, data_output2, chart_output1, chart_output2])\n",
    "\n",
    "# Gradio 앱 실행\n",
    "demo.launch()\n",
    "# demo.launch(share=True)\n",
    "'''"
   ]
  },
  {
   "cell_type": "markdown",
   "metadata": {},
   "source": [
    "## 이전 조회한 종목을 바로 선택할 수 있는 UI"
   ]
  },
  {
   "cell_type": "code",
   "execution_count": null,
   "metadata": {},
   "outputs": [],
   "source": [
    "# Gradio 인터페이스 설정\n",
    "with gr.Blocks(gr.themes.Monochrome()) as demo:\n",
    "    previous_tickers = gr.State(set())\n",
    "    gr.Markdown(\"# 주식 데이터 조회\")\n",
    "    previous_tickers_display = gr.Radio(label=\"이전 조회된 티커\", choices=[], interactive=True, visible=False)\n",
    "    ticker_input = gr.Textbox(label=\"주식 티커 입력\", placeholder=\"예: AAPL, MSFT 등\")\n",
    "    warning_message = gr.Markdown(value=\"\", visible=False)\n",
    "    with gr.Row():\n",
    "        submit_btn = gr.Button(\"조회\")\n",
    "        reset_btn = gr.Button(\"초기화\")\n",
    "    data_output = gr.Dataframe(label=\"일별 주가 데이터\", visible=False, render=False) \n",
    "    chart_output = gr.Image(label=\"주가 차트\", visible=False)\n",
    "    \n",
    "    def update_visibility(ticker, previous_tickers):\n",
    "        if not ticker:\n",
    "            return gr.update(visible=False), gr.update(visible=False), None, None, gr.update(choices=list(previous_tickers), visible=bool(previous_tickers)), gr.update(value=\"티커를 입력하세요.\", visible=True)\n",
    "        \n",
    "        ticker = ticker.upper()  # Convert ticker to uppercase\n",
    "        data, img = get_yfinance_stock_data(ticker)\n",
    "        previous_tickers.add(ticker)\n",
    "        return (\n",
    "            gr.update(visible=True, label=f\"일별 주가 데이터 [{ticker}]\"),\n",
    "            gr.update(visible=True),\n",
    "            data,\n",
    "            img,\n",
    "            gr.update(choices=list(previous_tickers), visible=True),\n",
    "            gr.update(visible=False)\n",
    "        )\n",
    "    \n",
    "    def reset_fields():\n",
    "        return \"\", gr.update(visible=False), gr.update(visible=False), gr.update(visible=False)\n",
    "    \n",
    "    def update_ticker_input(selected_ticker):\n",
    "        return selected_ticker, gr.update(visible=False), gr.update(visible=False), gr.update(visible=False), gr.update(value=\"\", visible=False)\n",
    "    \n",
    "    def auto_submit_ticker(selected_ticker, previous_tickers):\n",
    "        return update_visibility(selected_ticker, previous_tickers)\n",
    "    \n",
    "    submit_btn.click(update_visibility, inputs=[ticker_input, previous_tickers], outputs=[data_output, chart_output, data_output, chart_output, previous_tickers_display, warning_message])\n",
    "    ticker_input.submit(update_visibility, inputs=[ticker_input, previous_tickers], outputs=[data_output, chart_output, data_output, chart_output, previous_tickers_display, warning_message])\n",
    "    reset_btn.click(reset_fields, inputs=None, outputs=[ticker_input, data_output, chart_output, warning_message])\n",
    "    previous_tickers_display.change(update_ticker_input, inputs=previous_tickers_display, outputs=[ticker_input, data_output, chart_output, warning_message])\n",
    "    previous_tickers_display.change(auto_submit_ticker, inputs=[previous_tickers_display, previous_tickers], outputs=[data_output, chart_output, data_output, chart_output, previous_tickers_display, warning_message])\n",
    "\n",
    "# Gradio 앱 실행\n",
    "demo.launch()\n",
    "# demo.launch(share=True)\n"
   ]
  },
  {
   "cell_type": "markdown",
   "metadata": {},
   "source": [
    "## 가격에측 가능한(모델 학습이 완료된) 티커에 대해서만 조회 되도록 수정"
   ]
  },
  {
   "cell_type": "code",
   "execution_count": null,
   "metadata": {},
   "outputs": [
    {
     "name": "stdout",
     "output_type": "stream",
     "text": [
      "* Running on local URL:  http://127.0.0.1:7886\n",
      "\n",
      "To create a public link, set `share=True` in `launch()`.\n"
     ]
    },
    {
     "data": {
      "text/html": [
       "<div><iframe src=\"http://127.0.0.1:7886/\" width=\"100%\" height=\"500\" allow=\"autoplay; camera; microphone; clipboard-read; clipboard-write;\" frameborder=\"0\" allowfullscreen></iframe></div>"
      ],
      "text/plain": [
       "<IPython.core.display.HTML object>"
      ]
     },
     "metadata": {},
     "output_type": "display_data"
    },
    {
     "data": {
      "text/plain": []
     },
     "execution_count": 35,
     "metadata": {},
     "output_type": "execute_result"
    },
    {
     "name": "stderr",
     "output_type": "stream",
     "text": [
      "[*********************100%***********************]  1 of 1 completed\n"
     ]
    }
   ],
   "source": [
    "import random\n",
    "\n",
    "# 사용 가능한 티커 목록 가져오기\n",
    "available_tickers = pd.read_csv('../data/available_tickers.csv')['tickers'].str.upper().tolist()\n",
    "random.shuffle(available_tickers)\n",
    "\n",
    "# Gradio 인터페이스 설정\n",
    "with gr.Blocks(gr.themes.Monochrome()) as demo:\n",
    "    previous_tickers = gr.State(set())\n",
    "    gr.Markdown(\"# 주식 데이터 조회\")\n",
    "    previous_tickers_display = gr.Radio(label=\"이전 조회된 티커\", choices=[], interactive=True, visible=False)\n",
    "    ticker_input = gr.Textbox(label=\"주식 티커 입력\", placeholder=f\"예: {\", \".join(available_tickers[:5])} 등\")\n",
    "    warning_message = gr.Markdown(value=\"\", visible=False)\n",
    "    with gr.Row():\n",
    "        submit_btn = gr.Button(\"조회\")\n",
    "        reset_btn = gr.Button(\"초기화\")\n",
    "\n",
    "    chart_output = gr.Image(label=\"주가 차트\", visible=False)\n",
    "    data_output = gr.Dataframe(label=\"일별 주가 데이터\", visible=False)\n",
    "    \n",
    "    def update_visibility(ticker, previous_tickers):\n",
    "        if not ticker:\n",
    "            return gr.update(visible=False), gr.update(visible=False), None, None, gr.update(choices=list(previous_tickers), visible=bool(previous_tickers)), gr.update(value=\"티커를 입력하세요.\", visible=True)\n",
    "        \n",
    "        ticker = ticker.upper()  # Convert ticker to uppercase\n",
    "        if ticker.upper() not in available_tickers:\n",
    "            return gr.update(visible=False), gr.update(visible=False), None, None, gr.update(choices=list(previous_tickers), visible=bool(previous_tickers)), gr.update(value=\"입력하신 종목의 가격 예측은 추후에 제공될 예정입니다..\", visible=True)\n",
    "        \n",
    "        data, img = get_yfinance_stock_data(ticker)\n",
    "        previous_tickers.add(ticker)\n",
    "        return (\n",
    "            gr.update(visible=True, label=f\"일별 주가 데이터 [{ticker}]\"),\n",
    "            gr.update(visible=True),\n",
    "            data,\n",
    "            img,\n",
    "            gr.update(choices=list(previous_tickers), visible=True),\n",
    "            gr.update(visible=False)\n",
    "        )\n",
    "    \n",
    "    def reset_fields():\n",
    "        return \"\", gr.update(visible=False), gr.update(visible=False), gr.update(visible=False)\n",
    "    \n",
    "    def update_ticker_input(selected_ticker):\n",
    "        return selected_ticker, gr.update(visible=False), gr.update(visible=False), gr.update(visible=False), gr.update(value=\"\", visible=False)\n",
    "    \n",
    "    def auto_submit_ticker(selected_ticker, previous_tickers):\n",
    "        return update_visibility(selected_ticker, previous_tickers)\n",
    "    \n",
    "    submit_btn.click(update_visibility, inputs=[ticker_input, previous_tickers], outputs=[data_output, chart_output, data_output, chart_output, previous_tickers_display, warning_message])\n",
    "    ticker_input.submit(update_visibility, inputs=[ticker_input, previous_tickers], outputs=[data_output, chart_output, data_output, chart_output, previous_tickers_display, warning_message])\n",
    "    reset_btn.click(reset_fields, inputs=None, outputs=[ticker_input, data_output, chart_output, warning_message])\n",
    "    previous_tickers_display.change(update_ticker_input, inputs=previous_tickers_display, outputs=[ticker_input, data_output, chart_output, warning_message])\n",
    "    previous_tickers_display.change(auto_submit_ticker, inputs=[previous_tickers_display, previous_tickers], outputs=[data_output, chart_output, data_output, chart_output, previous_tickers_display, warning_message])\n",
    "\n",
    "# Gradio 앱 실행\n",
    "demo.launch()\n",
    "# demo.launch(share=True)\n"
   ]
  },
  {
   "cell_type": "markdown",
   "metadata": {},
   "source": [
    "## 배경 이미지 추가"
   ]
  },
  {
   "cell_type": "code",
   "execution_count": null,
   "metadata": {},
   "outputs": [
    {
     "name": "stdout",
     "output_type": "stream",
     "text": [
      "* Running on local URL:  http://127.0.0.1:7924\n",
      "\n",
      "To create a public link, set `share=True` in `launch()`.\n"
     ]
    },
    {
     "data": {
      "text/html": [
       "<div><iframe src=\"http://127.0.0.1:7924/\" width=\"100%\" height=\"500\" allow=\"autoplay; camera; microphone; clipboard-read; clipboard-write;\" frameborder=\"0\" allowfullscreen></iframe></div>"
      ],
      "text/plain": [
       "<IPython.core.display.HTML object>"
      ]
     },
     "metadata": {},
     "output_type": "display_data"
    },
    {
     "data": {
      "text/plain": []
     },
     "execution_count": 79,
     "metadata": {},
     "output_type": "execute_result"
    },
    {
     "name": "stderr",
     "output_type": "stream",
     "text": [
      "[*********************100%***********************]  1 of 1 completed\n"
     ]
    }
   ],
   "source": [
    "import random\n",
    "\n",
    "# 사용 가능한 티커 목록 가져오기\n",
    "available_tickers = pd.read_csv('../data/available_tickers.csv')['tickers'].str.upper().tolist()\n",
    "random.shuffle(available_tickers)\n",
    "\n",
    "# Gradio 인터페이스 설정\n",
    "css_code = f\"\"\"\n",
    ".gradio-container {{\n",
    "    background-image: url(data:image/png;base64,{encoded_string});\n",
    "    background-size: cover;\n",
    "    background-repeat: no-repeat;\n",
    "    background-position: center;\n",
    "    opacity: 0.8;\n",
    "}}\n",
    "\n",
    ".custom-markdown h1, p {{\n",
    "    color: white;\n",
    "}}\n",
    "\"\"\"\n",
    "\n",
    "with gr.Blocks(gr.themes.Monochrome(), css=css_code) as demo:\n",
    "# with gr.Blocks(gr.themes.Default(primary_hue=gr.themes.colors.red, secondary_hue=gr.themes.colors.pink)) as demo:\n",
    "    previous_tickers = gr.State(set())\n",
    "    gr.Markdown(\"# 주식 가격 예측\", elem_classes=\"custom-markdown\")\n",
    "    previous_tickers_display = gr.Radio(label=\"이전 조회된 티커\", choices=[], interactive=True, visible=False)\n",
    "    ticker_input = gr.Textbox(label=\"주식 티커 입력\", placeholder=f\"예: {\", \".join(available_tickers[:5])} 등\")\n",
    "    warning_message = gr.Markdown(value=\"\", visible=False)\n",
    "    with gr.Row():\n",
    "        submit_btn = gr.Button(\"조회\")\n",
    "        reset_btn = gr.Button(\"초기화\")\n",
    "\n",
    "    chart_output = gr.Image(label=\"주가 차트\", visible=False)\n",
    "    data_output = gr.Dataframe(label=\"일별 주가 데이터\", visible=False)\n",
    "    \n",
    "    def update_visibility(ticker, previous_tickers):\n",
    "        if not ticker:\n",
    "            return gr.update(visible=False), gr.update(visible=False), None, None, gr.update(choices=list(previous_tickers), visible=bool(previous_tickers)), gr.update(value=\"티커를 입력하세요.\", visible=True, elem_classes=\"custom-markdown\")\n",
    "        \n",
    "        ticker = ticker.upper()  # Convert ticker to uppercase\n",
    "        if ticker.upper() not in available_tickers:\n",
    "            return gr.update(visible=False), gr.update(visible=False), None, None, gr.update(choices=list(previous_tickers), visible=bool(previous_tickers)), gr.update(value=\"입력하신 종목의 가격 예측은 추후에 제공될 예정입니다..\", visible=True)\n",
    "        \n",
    "        data, img = get_yfinance_stock_data(ticker)\n",
    "        previous_tickers.add(ticker)\n",
    "        return (\n",
    "            gr.update(visible=True, label=f\"일별 주가 데이터 [{ticker}]\"),\n",
    "            gr.update(visible=True),\n",
    "            data,\n",
    "            img,\n",
    "            gr.update(choices=list(previous_tickers), visible=True),\n",
    "            gr.update(visible=False)\n",
    "        )\n",
    "    \n",
    "    def reset_fields():\n",
    "        return \"\", gr.update(visible=False), gr.update(visible=False), gr.update(visible=False)\n",
    "    \n",
    "    def update_ticker_input(selected_ticker):\n",
    "        return selected_ticker, gr.update(visible=False), gr.update(visible=False), gr.update(visible=False), gr.update(value=\"\", visible=False)\n",
    "    \n",
    "    def auto_submit_ticker(selected_ticker, previous_tickers):\n",
    "        return update_visibility(selected_ticker, previous_tickers)\n",
    "    \n",
    "    submit_btn.click(update_visibility, inputs=[ticker_input, previous_tickers], outputs=[data_output, chart_output, data_output, chart_output, previous_tickers_display, warning_message])\n",
    "    ticker_input.submit(update_visibility, inputs=[ticker_input, previous_tickers], outputs=[data_output, chart_output, data_output, chart_output, previous_tickers_display, warning_message])\n",
    "    reset_btn.click(reset_fields, inputs=None, outputs=[ticker_input, data_output, chart_output, warning_message])\n",
    "    previous_tickers_display.change(update_ticker_input, inputs=previous_tickers_display, outputs=[ticker_input, data_output, chart_output, warning_message])\n",
    "    previous_tickers_display.change(auto_submit_ticker, inputs=[previous_tickers_display, previous_tickers], outputs=[data_output, chart_output, data_output, chart_output, previous_tickers_display, warning_message])\n",
    "\n",
    "# Gradio 앱 실행\n",
    "demo.launch()\n",
    "# demo.launch(share=True)\n"
   ]
  }
 ],
 "metadata": {
  "kernelspec": {
   "display_name": "py_3_12_3",
   "language": "python",
   "name": "python3"
  },
  "language_info": {
   "codemirror_mode": {
    "name": "ipython",
    "version": 3
   },
   "file_extension": ".py",
   "mimetype": "text/x-python",
   "name": "python",
   "nbconvert_exporter": "python",
   "pygments_lexer": "ipython3",
   "version": "3.12.3"
  }
 },
 "nbformat": 4,
 "nbformat_minor": 2
}

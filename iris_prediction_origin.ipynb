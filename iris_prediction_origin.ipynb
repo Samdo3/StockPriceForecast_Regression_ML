{
 "cells": [
  {
   "cell_type": "code",
   "execution_count": 21,
   "id": "89990875",
   "metadata": {},
   "outputs": [
    {
     "name": "stdout",
     "output_type": "stream",
     "text": [
      "                      Company        Volume\n",
      "0             TSLATesla, Inc.  47.673 B USD\n",
      "1      NVDANVIDIA Corporation  35.244 B USD\n",
      "2        AMZNAmazon.com, Inc.  14.971 B USD\n",
      "3              AAPLApple Inc.  12.152 B USD\n",
      "4   MSFTMicrosoft Corporation  11.211 B USD\n",
      "..                        ...           ...\n",
      "95       SLBSchlumberger N.V.   1.111 B USD\n",
      "96       DHID.R. Horton, Inc.   1.106 B USD\n",
      "97      TGTTarget Corporation   1.106 B USD\n",
      "98          KKRKKR & Co. Inc.   1.098 B USD\n",
      "99     MELIMercadoLibre, Inc.   1.077 B USD\n",
      "\n",
      "[100 rows x 2 columns]\n",
      "                              Company changePercents\n",
      "0         CTKBCytek Biosciences, Inc.        +36.03%\n",
      "1   TMCITreace Medical Concepts, Inc.        +35.07%\n",
      "2           COINCoinbase Global, Inc.        +31.11%\n",
      "3              CIFRCipher Mining Inc.        +31.02%\n",
      "4                  TEMTempus AI, Inc.        +28.02%\n",
      "..                                ...            ...\n",
      "95     WSFSWSFS Financial Corporation        +16.20%\n",
      "96            ARCBArcBest Corporation        +16.05%\n",
      "97      ZIONZions Bancorporation N.A.        +16.01%\n",
      "98               NUENucor Corporation        +15.99%\n",
      "99          BMRCBank of Marin Bancorp        +15.87%\n",
      "\n",
      "[100 rows x 2 columns]\n"
     ]
    }
   ],
   "source": [
    "import requests\n",
    "from bs4 import BeautifulSoup\n",
    "import pandas as pd\n",
    "\n",
    "def dailyChart():\n",
    "    # TradingView 미국 활발한 주식 페이지 URL\n",
    "    url_volume = \"https://kr.tradingview.com/markets/stocks-usa/market-movers-active/\"\n",
    "    url_change = \"https://kr.tradingview.com/markets/stocks-usa/market-movers-gainers/\"\n",
    "\n",
    "    # HTTP 요청\n",
    "    response_volume = requests.get(url_volume)\n",
    "    response_volume.raise_for_status()  # 요청 성공 여부 확인\n",
    "\n",
    "    response_change = requests.get(url_change)\n",
    "    response_change.raise_for_status()  # 요청 성공 여부 확인\n",
    "\n",
    "    # BeautifulSoup으로 HTML 파싱\n",
    "    soup_volume = BeautifulSoup(response_volume.text, 'html.parser')\n",
    "    soup_change = BeautifulSoup(response_change.text, 'html.parser')\n",
    "\n",
    "    # 필요한 데이터 추출 (예: 티커, 회사명, 가격, 변동률 등)\n",
    "    ticker_volume = []\n",
    "    ticker_change = []\n",
    "    volume = []\n",
    "    changePer = []\n",
    "\n",
    "    # 테이블 행을 순회하며 정보 추출\n",
    "    for row in soup_volume.select('table tr'):\n",
    "        cols = row.find_all('td')\n",
    "        if len(cols) > 4:  # 데이터가 있는 행인지 확인\n",
    "            ticker_volume.append(cols[0].text.strip())       # 회사명\n",
    "            volume.append(cols[1].text.strip())       # 거래량\n",
    "    \n",
    "    for row in soup_change.select('table tr'):\n",
    "        cols = row.find_all('td')\n",
    "        if len(cols) > 4:  # 데이터가 있는 행인지 확인\n",
    "            ticker_change.append(cols[0].text.strip())       # 회사명\n",
    "            changePer.append(cols[1].text.strip())    # 변화율\n",
    "\n",
    "    # 데이터프레임 생성\n",
    "    data_volume = pd.DataFrame({\n",
    "        'Company': ticker_volume,\n",
    "        'Volume': volume\n",
    "    })\n",
    "\n",
    "    data_change = pd.DataFrame({\n",
    "        'Company': ticker_change,\n",
    "        'changePercents': changePer\n",
    "    })\n",
    "\n",
    "\n",
    "\n",
    "    return data_volume,data_change\n",
    "\n",
    "\n",
    "\n",
    "data_volume, data_change=dailyChart()\n",
    "\n",
    "print(data_volume)\n",
    "print(data_change)"
   ]
  },
  {
   "cell_type": "code",
   "execution_count": null,
   "id": "91241858",
   "metadata": {},
   "outputs": [
    {
     "name": "stdout",
     "output_type": "stream",
     "text": [
      "USD to KRW: 1,396.30\n"
     ]
    }
   ],
   "source": [
    "import requests\n",
    "from bs4 import BeautifulSoup\n",
    "\n",
    "# 네이버 환율 페이지 URL\n",
    "url = \"https://finance.naver.com/marketindex/\"\n",
    "\n",
    "# HTTP 요청\n",
    "response = requests.get(url)\n",
    "response.raise_for_status()\n",
    "\n",
    "# BeautifulSoup으로 HTML 파싱\n",
    "soup = BeautifulSoup(response.text, 'html.parser')\n",
    "\n",
    "# 하나은행 기준 환율 데이터 추출 (예: 달러-원 환율)\n",
    "usd_krw = soup.select_one('div.market1 div.head_info > span.value').text\n",
    "print(\"USD to KRW:\", usd_krw)\n"
   ]
  },
  {
   "cell_type": "code",
   "execution_count": null,
   "id": "6943a94a",
   "metadata": {},
   "outputs": [
    {
     "name": "stdout",
     "output_type": "stream",
     "text": [
      "* Running on local URL:  http://127.0.0.1:7930\n",
      "\n",
      "To create a public link, set `share=True` in `launch()`.\n"
     ]
    },
    {
     "data": {
      "text/html": [
       "<div><iframe src=\"http://127.0.0.1:7930/\" width=\"100%\" height=\"500\" allow=\"autoplay; camera; microphone; clipboard-read; clipboard-write;\" frameborder=\"0\" allowfullscreen></iframe></div>"
      ],
      "text/plain": [
       "<IPython.core.display.HTML object>"
      ]
     },
     "metadata": {},
     "output_type": "display_data"
    }
   ],
   "source": [
    "import gradio as gr\n",
    "from gradio_modal import Modal\n",
    "\n",
    "def info_fn():\n",
    "    information=\"\"\"< 분석 기준 ><br>\n",
    "    - open(시작가)<br>\n",
    "    - close(종가)<br>\n",
    "    - InterestRate(금리)<br>\n",
    "    - ExchangeRate(1유로 기준 달러 환율)<br>\n",
    "    - VIX(변동성 지수(=공포 지수))<br>\n",
    "    - TEDSpread(은행 간 대출 금리와 단기 미국 국채 금리 간의 차이)<br>\n",
    "    - EFFR(예금 기관들이 서로에게 하룻밤 동안 예비 잔고를 대출할때 적용되는 금리)<br>\n",
    "    - Gold(금 가격)<br>\n",
    "    - Oil(유가)<br>\n",
    "    - Close_InterestRate_Corr(종가와 이자율의 상관계수)<br>\n",
    "    - Close_VIX_Corr(종가-공포지수 상관계수)<br>\n",
    "    - Daily_Return(일일 수익률)<br>\n",
    "    - Volatility(30일 이동평균편차)<br>\n",
    "    - Rolling_Mean_Close(30일 이동평균)<br><br>\n",
    "\n",
    "    < 분석 기준 출처 ><br>\n",
    "    - open,close,Gold, Oil = YFinance<br>\n",
    "    - InterestRate, ExchangeRate, VIX,<br> TEDSpread, EFFR = FRED<br>\n",
    "    - 달러 환율=네이버 은행고시환율(하나은행)<br><br>\n",
    "\n",
    "    < 분석 기간 ><br>\n",
    "    2010-01-01 ~ 2024-11-06<br><br>\n",
    "\n",
    "    < 분석 모델 ><br> \n",
    "    RandomForestRegression<br><br>\n",
    "    \"\"\"\n",
    "    gr.Info(information,duration=None,title=\"\")\n",
    "\n",
    "with gr.Blocks() as demo:\n",
    "    with gr.Row():\n",
    "        trigger_info = gr.Button(value=\"AI 관련 정보\")\n",
    "\n",
    "        trigger_info.click(info_fn, None, None)\n",
    "\n",
    "if __name__ == \"__main__\":\n",
    "    demo.launch()"
   ]
  }
 ],
 "metadata": {
  "kernelspec": {
   "display_name": "Python 3",
   "language": "python",
   "name": "python3"
  },
  "language_info": {
   "codemirror_mode": {
    "name": "ipython",
    "version": 3
   },
   "file_extension": ".py",
   "mimetype": "text/x-python",
   "name": "python",
   "nbconvert_exporter": "python",
   "pygments_lexer": "ipython3",
   "version": "3.12.5"
  }
 },
 "nbformat": 4,
 "nbformat_minor": 5
}
